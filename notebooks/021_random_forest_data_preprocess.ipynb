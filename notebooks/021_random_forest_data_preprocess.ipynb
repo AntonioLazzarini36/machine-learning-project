{
 "cells": [
  {
   "cell_type": "code",
   "execution_count": null,
   "id": "14e17547",
   "metadata": {},
   "outputs": [],
   "source": [
    "import os\n",
    "import numpy as np\n",
    "import matplotlib.pyplot as plt\n",
    "from torch.utils.data import DataLoader, Subset\n",
    "from torchvision import transforms, utils, io\n",
    "from torchvision.utils import make_grid\n",
    "from sklearn.model_selection import StratifiedShuffleSplit\n",
    "\n",
    "from string import ascii_lowercase\n",
    "from tqdm import tqdm # For progress bar"
   ]
  },
  {
   "cell_type": "code",
   "execution_count": 6,
   "id": "625c2cd4",
   "metadata": {},
   "outputs": [],
   "source": [
    "# Setting the path of the training dataset (that was already provided to you)\n",
    "\n",
    "running_local = True if os.getenv('JUPYTERHUB_USER') is None else False\n",
    "DATASET_PATH = \".\"\n",
    "\n",
    "# Set the location of the dataset\n",
    "if running_local:\n",
    "    # If running on your local machine, the sign_lang_train folder's path should be specified here\n",
    "    local_path = os.path.join('..', '..', 'sign_lang_train')\n",
    "    if os.path.exists(local_path):\n",
    "        DATASET_PATH = local_path\n",
    "else:\n",
    "    # If running on the Jupyter hub, this data folder is already available\n",
    "    # You DO NOT need to upload the data!\n",
    "    DATASET_PATH = \"/data/mlproject22/sign_lang_train\""
   ]
  },
  {
   "cell_type": "code",
   "execution_count": null,
   "id": "7c77f2d5",
   "metadata": {},
   "outputs": [],
   "source": [
    "### LETS READ THE CSV FILE AND THE .JPG FILES WITH THE CLASS BUILT IN SRC ###\n",
    "from datasets import SignLangDataset\n",
    "csv_filename = \"labels.csv\"  # This is your file inside sign_lang_train\n",
    "\n",
    "# Create dataset\n",
    "dataset = SignLangDataset(csv_file=csv_filename, root_dir=DATASET_PATH)"
   ]
  },
  {
   "cell_type": "code",
   "execution_count": 8,
   "id": "e05d934e",
   "metadata": {},
   "outputs": [
    {
     "data": {
      "text/plain": [
       "9680"
      ]
     },
     "execution_count": 8,
     "metadata": {},
     "output_type": "execute_result"
    }
   ],
   "source": [
    "### DID WE READ IT CORRECTLY??? ###\n",
    "dataset.__len__()"
   ]
  },
  {
   "cell_type": "code",
   "execution_count": 9,
   "id": "e12bc817",
   "metadata": {},
   "outputs": [],
   "source": [
    "# Extract all labels\n",
    "all_labels = [dataset[i]['label'] for i in range(len(dataset))]\n",
    "\n",
    "# Create stratified split object\n",
    "splitter = StratifiedShuffleSplit(n_splits=1, test_size=0.2, random_state=42)\n",
    "\n",
    "# Get train/val indices\n",
    "for train_idx, val_idx in splitter.split(np.zeros(len(all_labels)), all_labels):\n",
    "    train_dataset = Subset(dataset, train_idx)\n",
    "    val_dataset = Subset(dataset, val_idx)\n",
    "\n",
    "# Optional: Wrap in DataLoaders\n",
    "train_loader = DataLoader(train_dataset, batch_size=64, shuffle=True)\n",
    "val_loader = DataLoader(val_dataset, batch_size=64, shuffle=False)"
   ]
  },
  {
   "cell_type": "code",
   "execution_count": null,
   "id": "8e1adc5c",
   "metadata": {},
   "outputs": [],
   "source": [
    "### IMPORT THE DEFINED CLASS THAT TRANSFORM THE 2D IMAGE INTO 1D FOR THE RANDOM FOREST ###\n",
    "from transforms import FlattenImageTransform\n",
    "\n",
    "# Class to transform to Flattened Pixels:\n",
    "transform_for_rf = FlattenImageTransform(target_size=(64, 64))"
   ]
  },
  {
   "cell_type": "code",
   "execution_count": 11,
   "id": "ef8366a2",
   "metadata": {},
   "outputs": [
    {
     "name": "stdout",
     "output_type": "stream",
     "text": [
      "Extracting features from training data...\n"
     ]
    },
    {
     "name": "stderr",
     "output_type": "stream",
     "text": [
      "100%|██████████| 7744/7744 [00:05<00:00, 1394.67it/s]\n"
     ]
    },
    {
     "name": "stdout",
     "output_type": "stream",
     "text": [
      "Extracting features from validation data...\n"
     ]
    },
    {
     "name": "stderr",
     "output_type": "stream",
     "text": [
      "100%|██████████| 1936/1936 [00:01<00:00, 1236.92it/s]\n"
     ]
    },
    {
     "name": "stdout",
     "output_type": "stream",
     "text": [
      "Shape of X_train: (7744, 524288)\n",
      "Shape of y_train: (7744,)\n",
      "Shape of X_val: (1936, 524288)\n",
      "Shape of y_val: (1936,)\n"
     ]
    }
   ],
   "source": [
    "# --- Manually apply transform and collect features/labels ---\n",
    "X_train_features = []\n",
    "y_train_labels = []\n",
    "X_val_features = []\n",
    "y_val_labels = []\n",
    "\n",
    "print(\"Extracting features from training data...\")\n",
    "for i, sample in enumerate(tqdm(train_dataset)):\n",
    "    processed_sample = transform_for_rf(sample)\n",
    "    X_train_features.append(processed_sample['features'])\n",
    "    y_train_labels.append(processed_sample['label'])\n",
    "\n",
    "print(\"Extracting features from validation data...\")\n",
    "for i, sample in enumerate(tqdm(val_dataset)):\n",
    "    processed_sample = transform_for_rf(sample)\n",
    "    X_val_features.append(processed_sample['features'])\n",
    "    y_val_labels.append(processed_sample['label'])\n",
    "\n",
    "# Convert lists to numpy arrays\n",
    "X_train = np.array(X_train_features)\n",
    "y_train = np.array(y_train_labels)\n",
    "X_val = np.array(X_val_features)\n",
    "y_val = np.array(y_val_labels)\n",
    "\n",
    "print(f\"Shape of X_train: {X_train.shape}\")\n",
    "print(f\"Shape of y_train: {y_train.shape}\")\n",
    "print(f\"Shape of X_val: {X_val.shape}\")\n",
    "print(f\"Shape of y_val: {y_val.shape}\")"
   ]
  },
  {
   "cell_type": "code",
   "execution_count": 12,
   "id": "dbbbfa01",
   "metadata": {},
   "outputs": [
    {
     "name": "stdout",
     "output_type": "stream",
     "text": [
      "Feature arrays saved successfully.\n"
     ]
    }
   ],
   "source": [
    "### SAVE THE DATA IN THE FOLDER DATA ###\n",
    "# Make a directory for preprocessed data if it doesn't exist\n",
    "os.makedirs(\"preprocessed_data\", exist_ok=True)\n",
    "\n",
    "# Save arrays\n",
    "np.save(\"preprocessed_data/X_train.npy\", X_train)\n",
    "np.save(\"preprocessed_data/y_train.npy\", y_train)\n",
    "np.save(\"preprocessed_data/X_val.npy\", X_val)\n",
    "np.save(\"preprocessed_data/y_val.npy\", y_val)\n",
    "\n",
    "print(\"Feature arrays saved successfully.\")"
   ]
  }
 ],
 "metadata": {
  "kernelspec": {
   "display_name": "Python 3",
   "language": "python",
   "name": "python3"
  },
  "language_info": {
   "codemirror_mode": {
    "name": "ipython",
    "version": 3
   },
   "file_extension": ".py",
   "mimetype": "text/x-python",
   "name": "python",
   "nbconvert_exporter": "python",
   "pygments_lexer": "ipython3",
   "version": "3.8.10"
  }
 },
 "nbformat": 4,
 "nbformat_minor": 5
}
